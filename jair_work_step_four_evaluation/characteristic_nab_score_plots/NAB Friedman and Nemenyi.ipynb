{
 "cells": [
  {
   "cell_type": "code",
   "execution_count": 1,
   "metadata": {},
   "outputs": [],
   "source": [
    "import stac\n",
    "import pandas as pd\n",
    "import numpy as np\n",
    "from scipy import stats\n",
    "import scikit_posthocs as sp\n",
    "import matplotlib.pyplot as plt\n",
    "from os import listdir\n",
    "from os.path import isfile, join\n",
    "import joblib"
   ]
  },
  {
   "cell_type": "code",
   "execution_count": 2,
   "metadata": {},
   "outputs": [
    {
     "data": {
      "text/html": [
       "<div>\n",
       "<style scoped>\n",
       "    .dataframe tbody tr th:only-of-type {\n",
       "        vertical-align: middle;\n",
       "    }\n",
       "\n",
       "    .dataframe tbody tr th {\n",
       "        vertical-align: top;\n",
       "    }\n",
       "\n",
       "    .dataframe thead th {\n",
       "        text-align: right;\n",
       "    }\n",
       "</style>\n",
       "<table border=\"1\" class=\"dataframe\">\n",
       "  <thead>\n",
       "    <tr style=\"text-align: right;\">\n",
       "      <th></th>\n",
       "      <th>anomaly detection method</th>\n",
       "      <th>dataset</th>\n",
       "      <th>standard nab score</th>\n",
       "    </tr>\n",
       "  </thead>\n",
       "  <tbody>\n",
       "    <tr>\n",
       "      <th>0</th>\n",
       "      <td>anomalous</td>\n",
       "      <td>Twitter_volume_FB_filled.csv</td>\n",
       "      <td>99.99</td>\n",
       "    </tr>\n",
       "    <tr>\n",
       "      <th>1</th>\n",
       "      <td>anomalous</td>\n",
       "      <td>elb_request_count_8c0756_filled.csv</td>\n",
       "      <td>99.96</td>\n",
       "    </tr>\n",
       "    <tr>\n",
       "      <th>2</th>\n",
       "      <td>anomalous</td>\n",
       "      <td>FARM_filled.csv</td>\n",
       "      <td>98.05</td>\n",
       "    </tr>\n",
       "    <tr>\n",
       "      <th>3</th>\n",
       "      <td>anomalous</td>\n",
       "      <td>ambient_temperature_system_failure_filled.csv</td>\n",
       "      <td>99.55</td>\n",
       "    </tr>\n",
       "    <tr>\n",
       "      <th>4</th>\n",
       "      <td>anomalous</td>\n",
       "      <td>international-airline-passengers_filled.csv</td>\n",
       "      <td>92.82</td>\n",
       "    </tr>\n",
       "    <tr>\n",
       "      <th>...</th>\n",
       "      <td>...</td>\n",
       "      <td>...</td>\n",
       "      <td>...</td>\n",
       "    </tr>\n",
       "    <tr>\n",
       "      <th>343</th>\n",
       "      <td>windowed_gaussian</td>\n",
       "      <td>exchange-3_cpc_results_nofill.csv</td>\n",
       "      <td>NaN</td>\n",
       "    </tr>\n",
       "    <tr>\n",
       "      <th>344</th>\n",
       "      <td>windowed_gaussian</td>\n",
       "      <td>artificial_cd_3_nofill.csv</td>\n",
       "      <td>NaN</td>\n",
       "    </tr>\n",
       "    <tr>\n",
       "      <th>345</th>\n",
       "      <td>windowed_gaussian</td>\n",
       "      <td>elb_request_count_8c0756_nofill.csv</td>\n",
       "      <td>NaN</td>\n",
       "    </tr>\n",
       "    <tr>\n",
       "      <th>346</th>\n",
       "      <td>windowed_gaussian</td>\n",
       "      <td>artificial_cd_1_nofill.csv</td>\n",
       "      <td>NaN</td>\n",
       "    </tr>\n",
       "    <tr>\n",
       "      <th>347</th>\n",
       "      <td>windowed_gaussian</td>\n",
       "      <td>ambient_temperature_system_failure_nofill.csv</td>\n",
       "      <td>NaN</td>\n",
       "    </tr>\n",
       "  </tbody>\n",
       "</table>\n",
       "<p>348 rows × 3 columns</p>\n",
       "</div>"
      ],
      "text/plain": [
       "    anomaly detection method                                        dataset  \\\n",
       "0                  anomalous                   Twitter_volume_FB_filled.csv   \n",
       "1                  anomalous            elb_request_count_8c0756_filled.csv   \n",
       "2                  anomalous                                FARM_filled.csv   \n",
       "3                  anomalous  ambient_temperature_system_failure_filled.csv   \n",
       "4                  anomalous    international-airline-passengers_filled.csv   \n",
       "..                       ...                                            ...   \n",
       "343        windowed_gaussian              exchange-3_cpc_results_nofill.csv   \n",
       "344        windowed_gaussian                     artificial_cd_3_nofill.csv   \n",
       "345        windowed_gaussian            elb_request_count_8c0756_nofill.csv   \n",
       "346        windowed_gaussian                     artificial_cd_1_nofill.csv   \n",
       "347        windowed_gaussian  ambient_temperature_system_failure_nofill.csv   \n",
       "\n",
       "     standard nab score  \n",
       "0                 99.99  \n",
       "1                 99.96  \n",
       "2                 98.05  \n",
       "3                 99.55  \n",
       "4                 92.82  \n",
       "..                  ...  \n",
       "343                 NaN  \n",
       "344                 NaN  \n",
       "345                 NaN  \n",
       "346                 NaN  \n",
       "347                 NaN  \n",
       "\n",
       "[348 rows x 3 columns]"
      ]
     },
     "metadata": {},
     "output_type": "display_data"
    }
   ],
   "source": [
    "nab_df = pd.read_csv(\"../nab_scores.csv\")\n",
    "display(nab_df)"
   ]
  },
  {
   "cell_type": "code",
   "execution_count": 3,
   "metadata": {},
   "outputs": [],
   "source": [
    "# Helper functions for performing the statistical tests\n",
    "def generate_scores(method, method_args, data, labels):\n",
    "    pairwise_scores = method(data, **method_args) # Matrix for all pairwise comaprisons\n",
    "    pairwise_scores.set_axis(labels, axis='columns', inplace=True) # Label the cols\n",
    "    pairwise_scores.set_axis(labels, axis='rows', inplace=True) # Label the rows, note: same label as pairwise combinations\n",
    "    return pairwise_scores\n",
    "\n",
    "def plot(scores):\n",
    "    # Pretty plot of significance\n",
    "    heatmap_args = {'linewidths': 0.25, 'linecolor': '0.5', 'square': True,\n",
    "                    'cbar_ax_bbox': [0.80, 0.35, 0.04, 0.3]}\n",
    "\n",
    "    sp.sign_plot(scores, **heatmap_args)\n",
    "    \n",
    "def specific_plot(scores, method_list, char, alpha=.1):\n",
    "    heatmap_args = {'linewidths': 0.25, 'linecolor': '0.5', 'square': True,\n",
    "                    'cbar_ax_bbox': [0.80, 0.35, 0.04, 0.3]}\n",
    "    sig_array = sp.sign_array(scores, alpha)\n",
    "    sig_array =sig_array.astype(int)\n",
    "    sp.sign_plot(sig_array, g=method_list,flat=True,**heatmap_args)\n",
    "    plt.tight_layout()\n",
    "#     plt.savefig(\"nab_nemenyi_plot_\" + char + \".eps\",format=\"eps\")\n",
    "    plt.savefig(\"nab_nemenyi_plot_\" + char + \".png\", dpi=300)\n",
    "\n",
    "\n",
    "def get_friedman_test_df(corpus):    \n",
    "    # get a df where\n",
    "    # rows are datasets in the seasonality/trend/concept drift corpus\n",
    "    # columns are the methods \n",
    "    # elements are the auc\n",
    "\n",
    "    dataset_column = []\n",
    "    anomalous_column = []\n",
    "    fb_column = []\n",
    "    glim_column  = []\n",
    "    hstree_column = []\n",
    "    htm_column = []\n",
    "    matrix_profile_column = []\n",
    "    pbad_column = []\n",
    "    sarimax_column = []\n",
    "    stl_column = []\n",
    "    twitter_column = []\n",
    "    vae_column = []\n",
    "    windowed_gaussian_column = []\n",
    "\n",
    "    mypath = \"../dataset_roc_auc_tables/\"\n",
    "    for dataset in corpus:\n",
    "        dataset_column.append(dataset)\n",
    "        table = nab_df[nab_df[\"dataset\"]==dataset]\n",
    "    \n",
    "        anomalous = table[table[\"anomaly detection method\"]==\"anomalous\"][\"standard nab score\"].values\n",
    "        if anomalous:\n",
    "            if anomalous[0] != anomalous[0]:\n",
    "                anomalous_column.append(0)\n",
    "            else:\n",
    "                anomalous_column.append(anomalous[0])\n",
    "        else:\n",
    "            anomalous_column.append(0)\n",
    "\n",
    "        fb = table[table[\"anomaly detection method\"]==\"fb\"][\"standard nab score\"].values\n",
    "        if fb:\n",
    "            if fb[0] != fb[0]:\n",
    "                fb_column.append(0)\n",
    "            else:\n",
    "                fb_column.append(fb[0])\n",
    "        else:\n",
    "            fb_column.append(0)\n",
    "\n",
    "        glim = table[table[\"anomaly detection method\"]==\"glim\"][\"standard nab score\"].values\n",
    "        if glim:\n",
    "            if glim[0] != glim[0]:\n",
    "                glim_column.append(0)\n",
    "            else:\n",
    "                glim_column.append(glim[0])\n",
    "        else:\n",
    "            glim_column.append(0)\n",
    "\n",
    "        hstree = table[table[\"anomaly detection method\"]==\"hstree\"][\"standard nab score\"].values\n",
    "        if hstree:\n",
    "            if hstree[0] != hstree[0]:\n",
    "                hstree_column.append(0)\n",
    "            else:\n",
    "                hstree_column.append(hstree[0])\n",
    "        else:\n",
    "            hstree_column.append(0)\n",
    "\n",
    "        htm = table[table[\"anomaly detection method\"]==\"htm\"][\"standard nab score\"].values\n",
    "        if htm:\n",
    "            if htm[0] != htm[0]:\n",
    "                htm_column.append(0)\n",
    "            else:\n",
    "                htm_column.append(htm[0])\n",
    "        else:\n",
    "            htm_column.append(0)\n",
    "\n",
    "        matrix_profile = table[table[\"anomaly detection method\"]==\"matrix_profile\"][\"standard nab score\"].values\n",
    "        if matrix_profile:\n",
    "            if matrix_profile[0] != matrix_profile[0]:\n",
    "                matrix_profile_column.append(0)\n",
    "            else:\n",
    "                matrix_profile_column.append(matrix_profile[0])\n",
    "        else:\n",
    "            matrix_profile_column.append(0)\n",
    "\n",
    "        pbad = table[table[\"anomaly detection method\"]==\"pbad\"][\"standard nab score\"].values\n",
    "        if pbad:\n",
    "            if pbad[0] != pbad[0]:\n",
    "                pbad_column.append(0)\n",
    "            else:\n",
    "                pbad_column.append(pbad[0])\n",
    "        else:\n",
    "            pbad_column.append(0)\n",
    "\n",
    "        sarimax = table[table[\"anomaly detection method\"]==\"sarimax\"][\"standard nab score\"].values\n",
    "        if sarimax:\n",
    "            if sarimax[0] != sarimax[0]:\n",
    "                sarimax_column.append(0)\n",
    "            else:\n",
    "                sarimax_column.append(sarimax[0])\n",
    "        else:\n",
    "            sarimax_column.append(0)\n",
    "\n",
    "        stl = table[table[\"anomaly detection method\"]==\"stl\"][\"standard nab score\"].values\n",
    "        if stl:\n",
    "            if stl[0] != stl[0]:\n",
    "                stl_column.append(0)\n",
    "            else:\n",
    "                stl_column.append(stl[0])\n",
    "        else:\n",
    "            stl_column.append(0)\n",
    "\n",
    "        twitter = table[table[\"anomaly detection method\"]==\"twitter\"][\"standard nab score\"].values\n",
    "        if twitter:\n",
    "            if twitter[0] != twitter[0]:\n",
    "                twitter_column.append(0)\n",
    "            else:\n",
    "                twitter_column.append(twitter[0])\n",
    "        else:\n",
    "            twitter_column.append(0)\n",
    "\n",
    "        vae = table[table[\"anomaly detection method\"]==\"vae\"][\"standard nab score\"].values\n",
    "        if vae:\n",
    "            if vae[0] != vae[0]:\n",
    "                vae_column.append(0)\n",
    "            else:\n",
    "                vae_column.append(vae[0])\n",
    "        else:\n",
    "            vae_column.append(0)\n",
    "\n",
    "        windowed_gaussian = table[table[\"anomaly detection method\"]==\"windowed_gaussian\"][\"standard nab score\"].values\n",
    "        if windowed_gaussian:\n",
    "            if windowed_gaussian[0] != windowed_gaussian[0]:\n",
    "                windowed_gaussian_column.append(0)\n",
    "            else:\n",
    "                windowed_gaussian_column.append(windowed_gaussian[0])\n",
    "        else:\n",
    "            windowed_gaussian_column.append(0)\n",
    "\n",
    "\n",
    "    df = pd.DataFrame({\"Dataset\": dataset_column,\n",
    "                       \"Anomalous\": anomalous_column,\n",
    "                       \"Prophet\": fb_column,\n",
    "                       \"GLiM\": glim_column,\n",
    "                       \"HS Tree\": hstree_column,\n",
    "                       \"HTM\": htm_column,\n",
    "                       \"Matrix Profile\": matrix_profile_column,\n",
    "                       \"PBAD\": pbad_column,\n",
    "                       \"SARIMAX\": sarimax_column,\n",
    "                       \"STL\": stl_column,\n",
    "                       \"Twitter\": twitter_column,\n",
    "                       \"VAE\": vae_column,\n",
    "                       \"Windowed Gaussian\": windowed_gaussian_column})\n",
    "\n",
    "    # display(df)\n",
    "    df = df.drop(['Dataset'], axis=1)\n",
    "    # display(df)\n",
    "\n",
    "    return df\n",
    "\n",
    "\n",
    "def get_friedman_test_df_miss(corpus):\n",
    "    # get a df where\n",
    "    # rows are datasets in the missing corpus\n",
    "    # columns are the methods \n",
    "    # elements are the auc\n",
    "\n",
    "    dataset_column = []\n",
    "    anomalous_column = []\n",
    "    fb_column = []\n",
    "    glim_column  = []\n",
    "    hstree_column = []\n",
    "    htm_column = []\n",
    "    matrix_profile_column = []\n",
    "    sarimax_column = []\n",
    "    stl_column = []\n",
    "    vae_column = []\n",
    "\n",
    "    mypath = \"../dataset_roc_auc_tables/\"\n",
    "    for dataset in corpus:\n",
    "        dataset_column.append(dataset)\n",
    "        table = nab_df[nab_df[\"dataset\"]==dataset]\n",
    "    \n",
    "        anomalous = table[table[\"anomaly detection method\"]==\"anomalous\"][\"standard nab score\"].values\n",
    "        if anomalous:\n",
    "            if anomalous[0] != anomalous[0]:\n",
    "                anomalous_column.append(0)\n",
    "            else:\n",
    "                anomalous_column.append(anomalous[0])\n",
    "        else:\n",
    "            anomalous_column.append(0)\n",
    "\n",
    "        fb = table[table[\"anomaly detection method\"]==\"fb\"][\"standard nab score\"].values\n",
    "        if fb:\n",
    "            if fb[0] != fb[0]:\n",
    "                fb_column.append(0)\n",
    "            else:\n",
    "                fb_column.append(fb[0])\n",
    "        else:\n",
    "            fb_column.append(0)\n",
    "\n",
    "        glim = table[table[\"anomaly detection method\"]==\"glim\"][\"standard nab score\"].values\n",
    "        if glim:\n",
    "            if glim[0] != glim[0]:\n",
    "                glim_column.append(0)\n",
    "            else:\n",
    "                glim_column.append(glim[0])\n",
    "        else:\n",
    "            glim_column.append(0)\n",
    "\n",
    "        hstree = table[table[\"anomaly detection method\"]==\"hstree\"][\"standard nab score\"].values\n",
    "        if hstree:\n",
    "            if hstree[0] != hstree[0]:\n",
    "                hstree_column.append(0)\n",
    "            else:\n",
    "                hstree_column.append(hstree[0])\n",
    "        else:\n",
    "            hstree_column.append(0)\n",
    "\n",
    "        htm = table[table[\"anomaly detection method\"]==\"htm\"][\"standard nab score\"].values\n",
    "        if htm:\n",
    "            if htm[0] != htm[0]:\n",
    "                htm_column.append(0)\n",
    "            else:\n",
    "                htm_column.append(htm[0])\n",
    "        else:\n",
    "            htm_column.append(0)\n",
    "\n",
    "        matrix_profile = table[table[\"anomaly detection method\"]==\"matrix_profile\"][\"standard nab score\"].values\n",
    "        if matrix_profile:\n",
    "            if matrix_profile[0] != matrix_profile[0]:\n",
    "                matrix_profile_column.append(0)\n",
    "            else:\n",
    "                matrix_profile_column.append(matrix_profile[0])\n",
    "        else:\n",
    "            matrix_profile_column.append(0)\n",
    "\n",
    "        sarimax = table[table[\"anomaly detection method\"]==\"sarimax\"][\"standard nab score\"].values\n",
    "        if sarimax:\n",
    "            if sarimax[0] != sarimax[0]:\n",
    "                sarimax_column.append(0)\n",
    "            else:\n",
    "                sarimax_column.append(sarimax[0])\n",
    "        else:\n",
    "            sarimax_column.append(0)\n",
    "\n",
    "        stl = table[table[\"anomaly detection method\"]==\"stl\"][\"standard nab score\"].values\n",
    "        if stl:\n",
    "            if stl[0] != stl[0]:\n",
    "                stl_column.append(0)\n",
    "            else:\n",
    "                stl_column.append(stl[0])\n",
    "        else:\n",
    "            stl_column.append(0)\n",
    "\n",
    "        vae = table[table[\"anomaly detection method\"]==\"vae\"][\"standard nab score\"].values\n",
    "        if vae:\n",
    "            if vae[0] != vae[0]:\n",
    "                vae_column.append(0)\n",
    "            else:\n",
    "                vae_column.append(vae[0])\n",
    "        else:\n",
    "            vae_column.append(0)\n",
    "\n",
    "    df = pd.DataFrame({\"Dataset\": dataset_column,\n",
    "                       \"Anomalous\": anomalous_column,\n",
    "                       \"Prophet\": fb_column,\n",
    "                       \"GLiM\": glim_column,\n",
    "                       \"HS Tree\": hstree_column,\n",
    "                       \"HTM\": htm_column,\n",
    "                       \"Matrix Profile\": matrix_profile_column,\n",
    "                       \"SARIMAX\": sarimax_column,\n",
    "                       \"STL\": stl_column,\n",
    "                       \"VAE\": vae_column})\n",
    "\n",
    "    # display(df)\n",
    "    df = df.drop(['Dataset'], axis=1)\n",
    "    # display(df)\n",
    "\n",
    "    return df"
   ]
  },
  {
   "cell_type": "code",
   "execution_count": 4,
   "metadata": {},
   "outputs": [],
   "source": [
    "# get characteristic corpora\n",
    "\n",
    "seasonality_path = \"../../datasets_seasonality/\"\n",
    "seasonality_corpus = []\n",
    "for dataset in listdir(seasonality_path):\n",
    "    seasonality_corpus.append(dataset)\n",
    "# print(seasonality_corpus)\n",
    "\n",
    "trend_path = \"../../datasets_trend/\"\n",
    "trend_corpus = []\n",
    "for dataset in listdir(trend_path):\n",
    "    trend_corpus.append(dataset)\n",
    "# print(trend_corpus)\n",
    "\n",
    "conceptdrift_path = \"../../datasets_conceptdrift/\"\n",
    "conceptdrift_corpus = []\n",
    "for dataset in listdir(conceptdrift_path):\n",
    "    conceptdrift_corpus.append(dataset)\n",
    "# print(conceptdrift_corpus)\n",
    "\n",
    "missing_path = \"../../datasets_missing/\"\n",
    "missing_corpus = []\n",
    "for dataset in listdir(missing_path):\n",
    "    missing_corpus.append(dataset)\n",
    "# print(missing_corpus)"
   ]
  },
  {
   "cell_type": "markdown",
   "metadata": {},
   "source": [
    "## Seasonality"
   ]
  },
  {
   "cell_type": "code",
   "execution_count": 5,
   "metadata": {},
   "outputs": [
    {
     "name": "stdout",
     "output_type": "stream",
     "text": [
      "Should we reject H0 (i.e. is there a difference in the means) at the 90.0 % confidence level? True\n"
     ]
    }
   ],
   "source": [
    "df = get_friedman_test_df(seasonality_corpus)\n",
    "data = np.asarray(df)\n",
    "\n",
    "alpha = 0.1 # Set this to the desired alpha/signifance level\n",
    "\n",
    "stat, p = stats.friedmanchisquare(*data)\n",
    "\n",
    "reject = p <= alpha\n",
    "print(\"Should we reject H0 (i.e. is there a difference in the means) at the\", (1-alpha)*100, \"% confidence level?\", reject)"
   ]
  },
  {
   "cell_type": "code",
   "execution_count": 6,
   "metadata": {},
   "outputs": [
    {
     "data": {
      "text/html": [
       "<div>\n",
       "<style scoped>\n",
       "    .dataframe tbody tr th:only-of-type {\n",
       "        vertical-align: middle;\n",
       "    }\n",
       "\n",
       "    .dataframe tbody tr th {\n",
       "        vertical-align: top;\n",
       "    }\n",
       "\n",
       "    .dataframe thead th {\n",
       "        text-align: right;\n",
       "    }\n",
       "</style>\n",
       "<table border=\"1\" class=\"dataframe\">\n",
       "  <thead>\n",
       "    <tr style=\"text-align: right;\">\n",
       "      <th></th>\n",
       "      <th>Anomalous</th>\n",
       "      <th>Prophet</th>\n",
       "      <th>GLiM</th>\n",
       "      <th>HS Tree</th>\n",
       "      <th>HTM</th>\n",
       "      <th>Matrix Profile</th>\n",
       "      <th>PBAD</th>\n",
       "      <th>SARIMAX</th>\n",
       "      <th>STL</th>\n",
       "      <th>Twitter</th>\n",
       "      <th>VAE</th>\n",
       "      <th>Windowed Gaussian</th>\n",
       "    </tr>\n",
       "  </thead>\n",
       "  <tbody>\n",
       "    <tr>\n",
       "      <th>Anomalous</th>\n",
       "      <td>1.000000</td>\n",
       "      <td>0.440001</td>\n",
       "      <td>0.900000</td>\n",
       "      <td>0.259619</td>\n",
       "      <td>0.170994</td>\n",
       "      <td>0.374579</td>\n",
       "      <td>0.001000</td>\n",
       "      <td>0.068963</td>\n",
       "      <td>0.057173</td>\n",
       "      <td>0.900000</td>\n",
       "      <td>0.900000</td>\n",
       "      <td>0.892191</td>\n",
       "    </tr>\n",
       "    <tr>\n",
       "      <th>Prophet</th>\n",
       "      <td>0.440001</td>\n",
       "      <td>1.000000</td>\n",
       "      <td>0.900000</td>\n",
       "      <td>0.900000</td>\n",
       "      <td>0.900000</td>\n",
       "      <td>0.900000</td>\n",
       "      <td>0.638894</td>\n",
       "      <td>0.900000</td>\n",
       "      <td>0.900000</td>\n",
       "      <td>0.900000</td>\n",
       "      <td>0.900000</td>\n",
       "      <td>0.900000</td>\n",
       "    </tr>\n",
       "    <tr>\n",
       "      <th>GLiM</th>\n",
       "      <td>0.900000</td>\n",
       "      <td>0.900000</td>\n",
       "      <td>1.000000</td>\n",
       "      <td>0.900000</td>\n",
       "      <td>0.900000</td>\n",
       "      <td>0.900000</td>\n",
       "      <td>0.183504</td>\n",
       "      <td>0.900000</td>\n",
       "      <td>0.900000</td>\n",
       "      <td>0.900000</td>\n",
       "      <td>0.900000</td>\n",
       "      <td>0.900000</td>\n",
       "    </tr>\n",
       "    <tr>\n",
       "      <th>HS Tree</th>\n",
       "      <td>0.259619</td>\n",
       "      <td>0.900000</td>\n",
       "      <td>0.900000</td>\n",
       "      <td>1.000000</td>\n",
       "      <td>0.900000</td>\n",
       "      <td>0.900000</td>\n",
       "      <td>0.814256</td>\n",
       "      <td>0.900000</td>\n",
       "      <td>0.900000</td>\n",
       "      <td>0.900000</td>\n",
       "      <td>0.794768</td>\n",
       "      <td>0.900000</td>\n",
       "    </tr>\n",
       "    <tr>\n",
       "      <th>HTM</th>\n",
       "      <td>0.170994</td>\n",
       "      <td>0.900000</td>\n",
       "      <td>0.900000</td>\n",
       "      <td>0.900000</td>\n",
       "      <td>1.000000</td>\n",
       "      <td>0.900000</td>\n",
       "      <td>0.900000</td>\n",
       "      <td>0.900000</td>\n",
       "      <td>0.900000</td>\n",
       "      <td>0.900000</td>\n",
       "      <td>0.677865</td>\n",
       "      <td>0.900000</td>\n",
       "    </tr>\n",
       "    <tr>\n",
       "      <th>Matrix Profile</th>\n",
       "      <td>0.374579</td>\n",
       "      <td>0.900000</td>\n",
       "      <td>0.900000</td>\n",
       "      <td>0.900000</td>\n",
       "      <td>0.900000</td>\n",
       "      <td>1.000000</td>\n",
       "      <td>0.697347</td>\n",
       "      <td>0.900000</td>\n",
       "      <td>0.900000</td>\n",
       "      <td>0.900000</td>\n",
       "      <td>0.900000</td>\n",
       "      <td>0.900000</td>\n",
       "    </tr>\n",
       "    <tr>\n",
       "      <th>PBAD</th>\n",
       "      <td>0.001000</td>\n",
       "      <td>0.638894</td>\n",
       "      <td>0.183504</td>\n",
       "      <td>0.814256</td>\n",
       "      <td>0.900000</td>\n",
       "      <td>0.697347</td>\n",
       "      <td>1.000000</td>\n",
       "      <td>0.900000</td>\n",
       "      <td>0.900000</td>\n",
       "      <td>0.075528</td>\n",
       "      <td>0.018784</td>\n",
       "      <td>0.197422</td>\n",
       "    </tr>\n",
       "    <tr>\n",
       "      <th>SARIMAX</th>\n",
       "      <td>0.068963</td>\n",
       "      <td>0.900000</td>\n",
       "      <td>0.900000</td>\n",
       "      <td>0.900000</td>\n",
       "      <td>0.900000</td>\n",
       "      <td>0.900000</td>\n",
       "      <td>0.900000</td>\n",
       "      <td>1.000000</td>\n",
       "      <td>0.900000</td>\n",
       "      <td>0.736317</td>\n",
       "      <td>0.461450</td>\n",
       "      <td>0.900000</td>\n",
       "    </tr>\n",
       "    <tr>\n",
       "      <th>STL</th>\n",
       "      <td>0.057173</td>\n",
       "      <td>0.900000</td>\n",
       "      <td>0.900000</td>\n",
       "      <td>0.900000</td>\n",
       "      <td>0.900000</td>\n",
       "      <td>0.900000</td>\n",
       "      <td>0.900000</td>\n",
       "      <td>0.900000</td>\n",
       "      <td>1.000000</td>\n",
       "      <td>0.697347</td>\n",
       "      <td>0.418211</td>\n",
       "      <td>0.900000</td>\n",
       "    </tr>\n",
       "    <tr>\n",
       "      <th>Twitter</th>\n",
       "      <td>0.900000</td>\n",
       "      <td>0.900000</td>\n",
       "      <td>0.900000</td>\n",
       "      <td>0.900000</td>\n",
       "      <td>0.900000</td>\n",
       "      <td>0.900000</td>\n",
       "      <td>0.075528</td>\n",
       "      <td>0.736317</td>\n",
       "      <td>0.697347</td>\n",
       "      <td>1.000000</td>\n",
       "      <td>0.900000</td>\n",
       "      <td>0.900000</td>\n",
       "    </tr>\n",
       "    <tr>\n",
       "      <th>VAE</th>\n",
       "      <td>0.900000</td>\n",
       "      <td>0.900000</td>\n",
       "      <td>0.900000</td>\n",
       "      <td>0.794768</td>\n",
       "      <td>0.677865</td>\n",
       "      <td>0.900000</td>\n",
       "      <td>0.018784</td>\n",
       "      <td>0.461450</td>\n",
       "      <td>0.418211</td>\n",
       "      <td>0.900000</td>\n",
       "      <td>1.000000</td>\n",
       "      <td>0.900000</td>\n",
       "    </tr>\n",
       "    <tr>\n",
       "      <th>Windowed Gaussian</th>\n",
       "      <td>0.892191</td>\n",
       "      <td>0.900000</td>\n",
       "      <td>0.900000</td>\n",
       "      <td>0.900000</td>\n",
       "      <td>0.900000</td>\n",
       "      <td>0.900000</td>\n",
       "      <td>0.197422</td>\n",
       "      <td>0.900000</td>\n",
       "      <td>0.900000</td>\n",
       "      <td>0.900000</td>\n",
       "      <td>0.900000</td>\n",
       "      <td>1.000000</td>\n",
       "    </tr>\n",
       "  </tbody>\n",
       "</table>\n",
       "</div>"
      ],
      "text/plain": [
       "                   Anomalous   Prophet      GLiM   HS Tree       HTM  \\\n",
       "Anomalous           1.000000  0.440001  0.900000  0.259619  0.170994   \n",
       "Prophet             0.440001  1.000000  0.900000  0.900000  0.900000   \n",
       "GLiM                0.900000  0.900000  1.000000  0.900000  0.900000   \n",
       "HS Tree             0.259619  0.900000  0.900000  1.000000  0.900000   \n",
       "HTM                 0.170994  0.900000  0.900000  0.900000  1.000000   \n",
       "Matrix Profile      0.374579  0.900000  0.900000  0.900000  0.900000   \n",
       "PBAD                0.001000  0.638894  0.183504  0.814256  0.900000   \n",
       "SARIMAX             0.068963  0.900000  0.900000  0.900000  0.900000   \n",
       "STL                 0.057173  0.900000  0.900000  0.900000  0.900000   \n",
       "Twitter             0.900000  0.900000  0.900000  0.900000  0.900000   \n",
       "VAE                 0.900000  0.900000  0.900000  0.794768  0.677865   \n",
       "Windowed Gaussian   0.892191  0.900000  0.900000  0.900000  0.900000   \n",
       "\n",
       "                   Matrix Profile      PBAD   SARIMAX       STL   Twitter  \\\n",
       "Anomalous                0.374579  0.001000  0.068963  0.057173  0.900000   \n",
       "Prophet                  0.900000  0.638894  0.900000  0.900000  0.900000   \n",
       "GLiM                     0.900000  0.183504  0.900000  0.900000  0.900000   \n",
       "HS Tree                  0.900000  0.814256  0.900000  0.900000  0.900000   \n",
       "HTM                      0.900000  0.900000  0.900000  0.900000  0.900000   \n",
       "Matrix Profile           1.000000  0.697347  0.900000  0.900000  0.900000   \n",
       "PBAD                     0.697347  1.000000  0.900000  0.900000  0.075528   \n",
       "SARIMAX                  0.900000  0.900000  1.000000  0.900000  0.736317   \n",
       "STL                      0.900000  0.900000  0.900000  1.000000  0.697347   \n",
       "Twitter                  0.900000  0.075528  0.736317  0.697347  1.000000   \n",
       "VAE                      0.900000  0.018784  0.461450  0.418211  0.900000   \n",
       "Windowed Gaussian        0.900000  0.197422  0.900000  0.900000  0.900000   \n",
       "\n",
       "                        VAE  Windowed Gaussian  \n",
       "Anomalous          0.900000           0.892191  \n",
       "Prophet            0.900000           0.900000  \n",
       "GLiM               0.900000           0.900000  \n",
       "HS Tree            0.794768           0.900000  \n",
       "HTM                0.677865           0.900000  \n",
       "Matrix Profile     0.900000           0.900000  \n",
       "PBAD               0.018784           0.197422  \n",
       "SARIMAX            0.461450           0.900000  \n",
       "STL                0.418211           0.900000  \n",
       "Twitter            0.900000           0.900000  \n",
       "VAE                1.000000           0.900000  \n",
       "Windowed Gaussian  0.900000           1.000000  "
      ]
     },
     "execution_count": 6,
     "metadata": {},
     "output_type": "execute_result"
    }
   ],
   "source": [
    "nemenyi_scores = generate_scores(sp.posthoc_nemenyi_friedman, {}, data, df.columns)\n",
    "\n",
    "# significance values\n",
    "nemenyi_scores"
   ]
  },
  {
   "cell_type": "code",
   "execution_count": 7,
   "metadata": {},
   "outputs": [
    {
     "name": "stdout",
     "output_type": "stream",
     "text": [
      "                   Anomalous  Prophet  GLiM  HS Tree  HTM  Matrix Profile  \\\n",
      "Anomalous               -1.0      0.0   0.0      0.0  0.0             0.0   \n",
      "Prophet                  0.0     -1.0   0.0      0.0  0.0             0.0   \n",
      "GLiM                     0.0      0.0  -1.0      0.0  0.0             0.0   \n",
      "HS Tree                  0.0      0.0   0.0     -1.0  0.0             0.0   \n",
      "HTM                      0.0      0.0   0.0      0.0 -1.0             0.0   \n",
      "Matrix Profile           0.0      0.0   0.0      0.0  0.0            -1.0   \n",
      "PBAD                     2.0      0.0   0.0      0.0  0.0             0.0   \n",
      "SARIMAX                  0.0      0.0   0.0      0.0  0.0             0.0   \n",
      "STL                      0.0      0.0   0.0      0.0  0.0             0.0   \n",
      "Twitter                  0.0      0.0   0.0      0.0  0.0             0.0   \n",
      "VAE                      0.0      0.0   0.0      0.0  0.0             0.0   \n",
      "Windowed Gaussian        0.0      0.0   0.0      0.0  0.0             0.0   \n",
      "\n",
      "                   PBAD  SARIMAX  STL  Twitter  VAE  Windowed Gaussian  \n",
      "Anomalous           2.0      0.0  0.0      0.0  0.0                0.0  \n",
      "Prophet             0.0      0.0  0.0      0.0  0.0                0.0  \n",
      "GLiM                0.0      0.0  0.0      0.0  0.0                0.0  \n",
      "HS Tree             0.0      0.0  0.0      0.0  0.0                0.0  \n",
      "HTM                 0.0      0.0  0.0      0.0  0.0                0.0  \n",
      "Matrix Profile      0.0      0.0  0.0      0.0  0.0                0.0  \n",
      "PBAD               -1.0      0.0  0.0      0.0  3.0                0.0  \n",
      "SARIMAX             0.0     -1.0  0.0      0.0  0.0                0.0  \n",
      "STL                 0.0      0.0 -1.0      0.0  0.0                0.0  \n",
      "Twitter             0.0      0.0  0.0     -1.0  0.0                0.0  \n",
      "VAE                 3.0      0.0  0.0      0.0 -1.0                0.0  \n",
      "Windowed Gaussian   0.0      0.0  0.0      0.0  0.0               -1.0  \n",
      "-----------\n"
     ]
    },
    {
     "data": {
      "image/png": "[encoded data removed]",
      "text/plain": [
       "<Figure size 432x288 with 2 Axes>"
      ]
     },
     "metadata": {
      "needs_background": "light"
     },
     "output_type": "display_data"
    }
   ],
   "source": [
    "plot(nemenyi_scores)"
   ]
  },
  {
   "cell_type": "code",
   "execution_count": 8,
   "metadata": {},
   "outputs": [
    {
     "data": {
      "image/png": "[encoded data removed]",
      "text/plain": [
       "<Figure size 432x288 with 1 Axes>"
      ]
     },
     "metadata": {
      "needs_background": "light"
     },
     "output_type": "display_data"
    }
   ],
   "source": [
    "# specify a p value\n",
    "specific_plot(nemenyi_scores,list(nemenyi_scores.columns.values),\"seasonality\",.1)"
   ]
  },
  {
   "cell_type": "code",
   "execution_count": 9,
   "metadata": {},
   "outputs": [],
   "source": [
    "# specify a p value\n",
    "# specific_plot(nemenyi_scores,list(nemenyi_scores.columns.values),.5)"
   ]
  },
  {
   "cell_type": "markdown",
   "metadata": {},
   "source": [
    "## Trend"
   ]
  },
  {
   "cell_type": "code",
   "execution_count": 10,
   "metadata": {},
   "outputs": [
    {
     "name": "stdout",
     "output_type": "stream",
     "text": [
      "Should we reject H0 (i.e. is there a difference in the means) at the 90.0 % confidence level? True\n"
     ]
    }
   ],
   "source": [
    "df = get_friedman_test_df(trend_corpus)\n",
    "data = np.asarray(df)\n",
    "\n",
    "alpha = 0.1 # Set this to the desired alpha/signifance level\n",
    "\n",
    "stat, p = stats.friedmanchisquare(*data)\n",
    "\n",
    "reject = p <= alpha\n",
    "print(\"Should we reject H0 (i.e. is there a difference in the means) at the\", (1-alpha)*100, \"% confidence level?\", reject)"
   ]
  },
  {
   "cell_type": "code",
   "execution_count": 11,
   "metadata": {},
   "outputs": [
    {
     "name": "stdout",
     "output_type": "stream",
     "text": [
      "                   Anomalous  Prophet  GLiM  HS Tree  HTM  Matrix Profile  \\\n",
      "Anomalous               -1.0      0.0   0.0      0.0  2.0             0.0   \n",
      "Prophet                  0.0     -1.0   0.0      0.0  0.0             0.0   \n",
      "GLiM                     0.0      0.0  -1.0      0.0  0.0             0.0   \n",
      "HS Tree                  0.0      0.0   0.0     -1.0  0.0             0.0   \n",
      "HTM                      2.0      0.0   0.0      0.0 -1.0             0.0   \n",
      "Matrix Profile           0.0      0.0   0.0      0.0  0.0            -1.0   \n",
      "PBAD                     2.0      0.0   3.0      0.0  0.0             0.0   \n",
      "SARIMAX                  0.0      0.0   0.0      0.0  0.0             0.0   \n",
      "STL                      3.0      0.0   0.0      0.0  0.0             0.0   \n",
      "Twitter                  0.0      0.0   0.0      0.0  0.0             0.0   \n",
      "VAE                      0.0      0.0   0.0      0.0  0.0             0.0   \n",
      "Windowed Gaussian        0.0      0.0   0.0      0.0  0.0             0.0   \n",
      "\n",
      "                   PBAD  SARIMAX  STL  Twitter  VAE  Windowed Gaussian  \n",
      "Anomalous           2.0      0.0  3.0      0.0  0.0                0.0  \n",
      "Prophet             0.0      0.0  0.0      0.0  0.0                0.0  \n",
      "GLiM                3.0      0.0  0.0      0.0  0.0                0.0  \n",
      "HS Tree             0.0      0.0  0.0      0.0  0.0                0.0  \n",
      "HTM                 0.0      0.0  0.0      0.0  0.0                0.0  \n",
      "Matrix Profile      0.0      0.0  0.0      0.0  0.0                0.0  \n",
      "PBAD               -1.0      0.0  0.0      0.0  0.0                0.0  \n",
      "SARIMAX             0.0     -1.0  0.0      0.0  0.0                0.0  \n",
      "STL                 0.0      0.0 -1.0      0.0  0.0                0.0  \n",
      "Twitter             0.0      0.0  0.0     -1.0  0.0                0.0  \n",
      "VAE                 0.0      0.0  0.0      0.0 -1.0                0.0  \n",
      "Windowed Gaussian   0.0      0.0  0.0      0.0  0.0               -1.0  \n",
      "-----------\n"
     ]
    },
    {
     "data": {
      "image/png": "[encoded data removed]",
      "text/plain": [
       "<Figure size 432x288 with 2 Axes>"
      ]
     },
     "metadata": {
      "needs_background": "light"
     },
     "output_type": "display_data"
    }
   ],
   "source": [
    "nemenyi_scores = generate_scores(sp.posthoc_nemenyi_friedman, {}, data, df.columns)\n",
    "plot(nemenyi_scores)"
   ]
  },
  {
   "cell_type": "code",
   "execution_count": 12,
   "metadata": {},
   "outputs": [
    {
     "data": {
      "image/png": "[encoded data removed]",
      "text/plain": [
       "<Figure size 432x288 with 1 Axes>"
      ]
     },
     "metadata": {
      "needs_background": "light"
     },
     "output_type": "display_data"
    }
   ],
   "source": [
    "# specify a p value\n",
    "specific_plot(nemenyi_scores,list(nemenyi_scores.columns.values),\"trend\",.1)"
   ]
  },
  {
   "cell_type": "code",
   "execution_count": 13,
   "metadata": {},
   "outputs": [],
   "source": [
    "# specific_plot(nemenyi_scores,list(nemenyi_scores.columns.values),.5)"
   ]
  },
  {
   "cell_type": "markdown",
   "metadata": {},
   "source": [
    "## Concept Drift"
   ]
  },
  {
   "cell_type": "code",
   "execution_count": 14,
   "metadata": {},
   "outputs": [
    {
     "name": "stdout",
     "output_type": "stream",
     "text": [
      "Should we reject H0 (i.e. is there a difference in the means) at the 90.0 % confidence level? True\n"
     ]
    }
   ],
   "source": [
    "df = get_friedman_test_df(conceptdrift_corpus)\n",
    "data = np.asarray(df)\n",
    "\n",
    "alpha = 0.1 # Set this to the desired alpha/signifance level\n",
    "\n",
    "stat, p = stats.friedmanchisquare(*data)\n",
    "\n",
    "reject = p <= alpha\n",
    "print(\"Should we reject H0 (i.e. is there a difference in the means) at the\", (1-alpha)*100, \"% confidence level?\", reject)"
   ]
  },
  {
   "cell_type": "code",
   "execution_count": 15,
   "metadata": {},
   "outputs": [
    {
     "name": "stdout",
     "output_type": "stream",
     "text": [
      "                   Anomalous  Prophet  GLiM  HS Tree  HTM  Matrix Profile  \\\n",
      "Anomalous               -1.0      0.0   0.0      0.0  0.0             2.0   \n",
      "Prophet                  0.0     -1.0   0.0      0.0  0.0             2.0   \n",
      "GLiM                     0.0      0.0  -1.0      0.0  0.0             0.0   \n",
      "HS Tree                  0.0      0.0   0.0     -1.0  0.0             0.0   \n",
      "HTM                      0.0      0.0   0.0      0.0 -1.0             0.0   \n",
      "Matrix Profile           2.0      2.0   0.0      0.0  0.0            -1.0   \n",
      "PBAD                     2.0      2.0   0.0      0.0  0.0             0.0   \n",
      "SARIMAX                  0.0      0.0   0.0      0.0  0.0             0.0   \n",
      "STL                      2.0      2.0   3.0      0.0  0.0             0.0   \n",
      "Twitter                  0.0      0.0   0.0      0.0  0.0             0.0   \n",
      "VAE                      0.0      0.0   0.0      0.0  0.0             0.0   \n",
      "Windowed Gaussian        0.0      0.0   0.0      0.0  0.0             0.0   \n",
      "\n",
      "                   PBAD  SARIMAX  STL  Twitter  VAE  Windowed Gaussian  \n",
      "Anomalous           2.0      0.0  2.0      0.0  0.0                0.0  \n",
      "Prophet             2.0      0.0  2.0      0.0  0.0                0.0  \n",
      "GLiM                0.0      0.0  3.0      0.0  0.0                0.0  \n",
      "HS Tree             0.0      0.0  0.0      0.0  0.0                0.0  \n",
      "HTM                 0.0      0.0  0.0      0.0  0.0                0.0  \n",
      "Matrix Profile      0.0      0.0  0.0      0.0  0.0                0.0  \n",
      "PBAD               -1.0      0.0  0.0      0.0  3.0                0.0  \n",
      "SARIMAX             0.0     -1.0  0.0      0.0  0.0                0.0  \n",
      "STL                 0.0      0.0 -1.0      0.0  2.0                0.0  \n",
      "Twitter             0.0      0.0  0.0     -1.0  0.0                0.0  \n",
      "VAE                 3.0      0.0  2.0      0.0 -1.0                0.0  \n",
      "Windowed Gaussian   0.0      0.0  0.0      0.0  0.0               -1.0  \n",
      "-----------\n"
     ]
    },
    {
     "data": {
      "image/png": "[encoded data removed]",
      "text/plain": [
       "<Figure size 432x288 with 2 Axes>"
      ]
     },
     "metadata": {
      "needs_background": "light"
     },
     "output_type": "display_data"
    }
   ],
   "source": [
    "nemenyi_scores = generate_scores(sp.posthoc_nemenyi_friedman, {}, data, df.columns)\n",
    "plot(nemenyi_scores)"
   ]
  },
  {
   "cell_type": "code",
   "execution_count": 16,
   "metadata": {},
   "outputs": [
    {
     "data": {
      "image/png": "[encoded data removed]",
      "text/plain": [
       "<Figure size 432x288 with 1 Axes>"
      ]
     },
     "metadata": {
      "needs_background": "light"
     },
     "output_type": "display_data"
    }
   ],
   "source": [
    "# specify a p value\n",
    "specific_plot(nemenyi_scores,list(nemenyi_scores.columns.values),\"conceptdrift\",.1)"
   ]
  },
  {
   "cell_type": "code",
   "execution_count": 17,
   "metadata": {},
   "outputs": [],
   "source": [
    "# specific_plot(nemenyi_scores,list(nemenyi_scores.columns.values),.5)"
   ]
  },
  {
   "cell_type": "markdown",
   "metadata": {},
   "source": [
    "## Missing"
   ]
  },
  {
   "cell_type": "code",
   "execution_count": 18,
   "metadata": {},
   "outputs": [
    {
     "data": {
      "text/plain": [
       "['ec2_cpu_utilization_ac20cd_nofill.csv',\n",
       " 'ibm-common-stock-closing-prices_nofill.csv',\n",
       " 'exchange-2_cpc_results_nofill.csv',\n",
       " 'exchange-2_cpm_results_nofill.csv',\n",
       " 'exchange-3_cpm_results_nofill.csv',\n",
       " 'exchange-3_cpc_results_nofill.csv',\n",
       " 'artificial_cd_3_nofill.csv',\n",
       " 'elb_request_count_8c0756_nofill.csv',\n",
       " 'artificial_cd_1_nofill.csv',\n",
       " 'ambient_temperature_system_failure_nofill.csv']"
      ]
     },
     "execution_count": 18,
     "metadata": {},
     "output_type": "execute_result"
    }
   ],
   "source": [
    "missing_corpus"
   ]
  },
  {
   "cell_type": "code",
   "execution_count": 19,
   "metadata": {},
   "outputs": [
    {
     "name": "stdout",
     "output_type": "stream",
     "text": [
      "Should we reject H0 (i.e. is there a difference in the means) at the 90.0 % confidence level? True\n"
     ]
    }
   ],
   "source": [
    "df = get_friedman_test_df_miss(missing_corpus)\n",
    "data = np.asarray(df)\n",
    "\n",
    "alpha = 0.1 # Set this to the desired alpha/signifance level\n",
    "\n",
    "stat, p = stats.friedmanchisquare(*data)\n",
    "\n",
    "reject = p <= alpha\n",
    "print(\"Should we reject H0 (i.e. is there a difference in the means) at the\", (1-alpha)*100, \"% confidence level?\", reject)"
   ]
  },
  {
   "cell_type": "code",
   "execution_count": 20,
   "metadata": {},
   "outputs": [
    {
     "name": "stdout",
     "output_type": "stream",
     "text": [
      "                Anomalous  Prophet  GLiM  HS Tree  HTM  Matrix Profile  \\\n",
      "Anomalous            -1.0      0.0   0.0      0.0  3.0             3.0   \n",
      "Prophet               0.0     -1.0   0.0      0.0  0.0             0.0   \n",
      "GLiM                  0.0      0.0  -1.0      0.0  0.0             0.0   \n",
      "HS Tree               0.0      0.0   0.0     -1.0  0.0             0.0   \n",
      "HTM                   3.0      0.0   0.0      0.0 -1.0             0.0   \n",
      "Matrix Profile        3.0      0.0   0.0      0.0  0.0            -1.0   \n",
      "SARIMAX               0.0      0.0   0.0      0.0  0.0             0.0   \n",
      "STL                   2.0      2.0   3.0      0.0  0.0             0.0   \n",
      "VAE                   0.0      0.0   0.0      0.0  0.0             0.0   \n",
      "\n",
      "                SARIMAX  STL  VAE  \n",
      "Anomalous           0.0  2.0  0.0  \n",
      "Prophet             0.0  2.0  0.0  \n",
      "GLiM                0.0  3.0  0.0  \n",
      "HS Tree             0.0  0.0  0.0  \n",
      "HTM                 0.0  0.0  0.0  \n",
      "Matrix Profile      0.0  0.0  0.0  \n",
      "SARIMAX            -1.0  0.0  0.0  \n",
      "STL                 0.0 -1.0  2.0  \n",
      "VAE                 0.0  2.0 -1.0  \n",
      "-----------\n"
     ]
    },
    {
     "data": {
      "image/png": "[encoded data removed]",
      "text/plain": [
       "<Figure size 432x288 with 2 Axes>"
      ]
     },
     "metadata": {
      "needs_background": "light"
     },
     "output_type": "display_data"
    }
   ],
   "source": [
    "nemenyi_scores = generate_scores(sp.posthoc_nemenyi_friedman, {}, data, df.columns)\n",
    "plot(nemenyi_scores)"
   ]
  },
  {
   "cell_type": "code",
   "execution_count": 21,
   "metadata": {},
   "outputs": [
    {
     "data": {
      "image/png": "[encoded data removed]",
      "text/plain": [
       "<Figure size 432x288 with 1 Axes>"
      ]
     },
     "metadata": {
      "needs_background": "light"
     },
     "output_type": "display_data"
    }
   ],
   "source": [
    "# specify a p value\n",
    "specific_plot(nemenyi_scores,list(nemenyi_scores.columns.values),\"missing\",.1)"
   ]
  },
  {
   "cell_type": "code",
   "execution_count": 22,
   "metadata": {},
   "outputs": [],
   "source": [
    "# specific_plot(nemenyi_scores,list(nemenyi_scores.columns.values),.5)"
   ]
  },
  {
   "cell_type": "code",
   "execution_count": null,
   "metadata": {},
   "outputs": [],
   "source": []
  }
 ],
 "metadata": {
  "kernelspec": {
   "display_name": "Python 3",
   "language": "python",
   "name": "python3"
  },
  "language_info": {
   "codemirror_mode": {
    "name": "ipython",
    "version": 3
   },
   "file_extension": ".py",
   "mimetype": "text/x-python",
   "name": "python",
   "nbconvert_exporter": "python",
   "pygments_lexer": "ipython3",
   "version": "3.6.9"
  }
 },
 "nbformat": 4,
 "nbformat_minor": 4
}
