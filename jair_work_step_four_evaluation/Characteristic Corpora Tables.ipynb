{
 "cells": [
  {
   "cell_type": "code",
   "execution_count": 1,
   "metadata": {},
   "outputs": [],
   "source": [
    "\n",
    "from os import listdir\n",
    "from os.path import isfile, join\n",
    "\n",
    "import pandas as pd\n",
    "import joblib"
   ]
  },
  {
   "cell_type": "code",
   "execution_count": 2,
   "metadata": {},
   "outputs": [],
   "source": [
    "seasonality_column = []\n",
    "\n",
    "mypath = \"../datasets_seasonality/\"\n",
    "for f in listdir(mypath):\n",
    "    seasonality_column.append(f[:-4])"
   ]
  },
  {
   "cell_type": "code",
   "execution_count": 3,
   "metadata": {},
   "outputs": [],
   "source": [
    "trend_column = []\n",
    "\n",
    "mypath = \"../datasets_trend/\"\n",
    "for f in listdir(mypath):\n",
    "    trend_column.append(f[:-4])"
   ]
  },
  {
   "cell_type": "code",
   "execution_count": 4,
   "metadata": {},
   "outputs": [],
   "source": [
    "conceptdrift_column = []\n",
    "\n",
    "mypath = \"../datasets_conceptdrift/\"\n",
    "for f in listdir(mypath):\n",
    "    conceptdrift_column.append(f[:-4])"
   ]
  },
  {
   "cell_type": "code",
   "execution_count": 5,
   "metadata": {},
   "outputs": [],
   "source": [
    "missing_column = []\n",
    "\n",
    "mypath = \"../datasets_missing/\"\n",
    "for f in listdir(mypath):\n",
    "    missing_column.append(f[:-4])"
   ]
  },
  {
   "cell_type": "code",
   "execution_count": 6,
   "metadata": {},
   "outputs": [],
   "source": [
    "ch_df = pd.DataFrame({\"Seasonality\": seasonality_column,\n",
    "                      \"Trend\": trend_column,\n",
    "                      \"Concept Drift\": conceptdrift_column,\n",
    "                      \"Missing\": missing_column})"
   ]
  },
  {
   "cell_type": "code",
   "execution_count": 7,
   "metadata": {},
   "outputs": [
    {
     "data": {
      "text/html": [
       "<div>\n",
       "<style scoped>\n",
       "    .dataframe tbody tr th:only-of-type {\n",
       "        vertical-align: middle;\n",
       "    }\n",
       "\n",
       "    .dataframe tbody tr th {\n",
       "        vertical-align: top;\n",
       "    }\n",
       "\n",
       "    .dataframe thead th {\n",
       "        text-align: right;\n",
       "    }\n",
       "</style>\n",
       "<table border=\"1\" class=\"dataframe\">\n",
       "  <thead>\n",
       "    <tr style=\"text-align: right;\">\n",
       "      <th></th>\n",
       "      <th>Seasonality</th>\n",
       "      <th>Trend</th>\n",
       "      <th>Concept Drift</th>\n",
       "      <th>Missing</th>\n",
       "    </tr>\n",
       "  </thead>\n",
       "  <tbody>\n",
       "    <tr>\n",
       "      <th>0</th>\n",
       "      <td>Twitter_volume_FB_filled</td>\n",
       "      <td>Twitter_volume_FB_filled</td>\n",
       "      <td>rds_cpu_utilization_cc0c53_filled</td>\n",
       "      <td>ec2_cpu_utilization_ac20cd_nofill</td>\n",
       "    </tr>\n",
       "    <tr>\n",
       "      <th>1</th>\n",
       "      <td>elb_request_count_8c0756_filled</td>\n",
       "      <td>elb_request_count_8c0756_filled</td>\n",
       "      <td>ec2_cpu_utilization_ac20cd_filled</td>\n",
       "      <td>ibm-common-stock-closing-prices_nofill</td>\n",
       "    </tr>\n",
       "    <tr>\n",
       "      <th>2</th>\n",
       "      <td>FARM_filled</td>\n",
       "      <td>ec2_cpu_utilization_ac20cd_filled</td>\n",
       "      <td>rds_cpu_utilization_e47b3b_filled</td>\n",
       "      <td>exchange-2_cpc_results_nofill</td>\n",
       "    </tr>\n",
       "    <tr>\n",
       "      <th>3</th>\n",
       "      <td>ambient_temperature_system_failure_filled</td>\n",
       "      <td>international-airline-passengers_filled</td>\n",
       "      <td>artificial_cd_3_filled</td>\n",
       "      <td>exchange-2_cpm_results_nofill</td>\n",
       "    </tr>\n",
       "    <tr>\n",
       "      <th>4</th>\n",
       "      <td>international-airline-passengers_filled</td>\n",
       "      <td>art_daily_flatmiddle_filled</td>\n",
       "      <td>grok_asg_anomaly_filled</td>\n",
       "      <td>exchange-3_cpm_results_nofill</td>\n",
       "    </tr>\n",
       "    <tr>\n",
       "      <th>5</th>\n",
       "      <td>ec2_cpu_utilization_5f5533_filled</td>\n",
       "      <td>grok_asg_anomaly_filled</td>\n",
       "      <td>ec2_cpu_utilization_5f5533_filled</td>\n",
       "      <td>exchange-3_cpc_results_nofill</td>\n",
       "    </tr>\n",
       "    <tr>\n",
       "      <th>6</th>\n",
       "      <td>artificial_cd_1_filled</td>\n",
       "      <td>Twitter_volume_AMZN_filled</td>\n",
       "      <td>artificial_cd_1_filled</td>\n",
       "      <td>artificial_cd_3_nofill</td>\n",
       "    </tr>\n",
       "    <tr>\n",
       "      <th>7</th>\n",
       "      <td>artificial_cd_2_filled</td>\n",
       "      <td>art_daily_nojump_filled</td>\n",
       "      <td>artificial_cd_2_filled</td>\n",
       "      <td>elb_request_count_8c0756_nofill</td>\n",
       "    </tr>\n",
       "    <tr>\n",
       "      <th>8</th>\n",
       "      <td>all_data_gift_certificates_filled</td>\n",
       "      <td>ibm-common-stock-closing-prices_filled</td>\n",
       "      <td>all_data_gift_certificates_filled</td>\n",
       "      <td>artificial_cd_1_nofill</td>\n",
       "    </tr>\n",
       "    <tr>\n",
       "      <th>9</th>\n",
       "      <td>Twitter_volume_GOOG_filled</td>\n",
       "      <td>Twitter_volume_GOOG_filled</td>\n",
       "      <td>ibm-common-stock-closing-prices_filled</td>\n",
       "      <td>ambient_temperature_system_failure_nofill</td>\n",
       "    </tr>\n",
       "  </tbody>\n",
       "</table>\n",
       "</div>"
      ],
      "text/plain": [
       "                                 Seasonality  \\\n",
       "0                   Twitter_volume_FB_filled   \n",
       "1            elb_request_count_8c0756_filled   \n",
       "2                                FARM_filled   \n",
       "3  ambient_temperature_system_failure_filled   \n",
       "4    international-airline-passengers_filled   \n",
       "5          ec2_cpu_utilization_5f5533_filled   \n",
       "6                     artificial_cd_1_filled   \n",
       "7                     artificial_cd_2_filled   \n",
       "8          all_data_gift_certificates_filled   \n",
       "9                 Twitter_volume_GOOG_filled   \n",
       "\n",
       "                                     Trend  \\\n",
       "0                 Twitter_volume_FB_filled   \n",
       "1          elb_request_count_8c0756_filled   \n",
       "2        ec2_cpu_utilization_ac20cd_filled   \n",
       "3  international-airline-passengers_filled   \n",
       "4              art_daily_flatmiddle_filled   \n",
       "5                  grok_asg_anomaly_filled   \n",
       "6               Twitter_volume_AMZN_filled   \n",
       "7                  art_daily_nojump_filled   \n",
       "8   ibm-common-stock-closing-prices_filled   \n",
       "9               Twitter_volume_GOOG_filled   \n",
       "\n",
       "                            Concept Drift  \\\n",
       "0       rds_cpu_utilization_cc0c53_filled   \n",
       "1       ec2_cpu_utilization_ac20cd_filled   \n",
       "2       rds_cpu_utilization_e47b3b_filled   \n",
       "3                  artificial_cd_3_filled   \n",
       "4                 grok_asg_anomaly_filled   \n",
       "5       ec2_cpu_utilization_5f5533_filled   \n",
       "6                  artificial_cd_1_filled   \n",
       "7                  artificial_cd_2_filled   \n",
       "8       all_data_gift_certificates_filled   \n",
       "9  ibm-common-stock-closing-prices_filled   \n",
       "\n",
       "                                     Missing  \n",
       "0          ec2_cpu_utilization_ac20cd_nofill  \n",
       "1     ibm-common-stock-closing-prices_nofill  \n",
       "2              exchange-2_cpc_results_nofill  \n",
       "3              exchange-2_cpm_results_nofill  \n",
       "4              exchange-3_cpm_results_nofill  \n",
       "5              exchange-3_cpc_results_nofill  \n",
       "6                     artificial_cd_3_nofill  \n",
       "7            elb_request_count_8c0756_nofill  \n",
       "8                     artificial_cd_1_nofill  \n",
       "9  ambient_temperature_system_failure_nofill  "
      ]
     },
     "execution_count": 7,
     "metadata": {},
     "output_type": "execute_result"
    }
   ],
   "source": [
    "ch_df"
   ]
  },
  {
   "cell_type": "code",
   "execution_count": 8,
   "metadata": {},
   "outputs": [
    {
     "name": "stdout",
     "output_type": "stream",
     "text": [
      "\\begin{tabular}{llll}\n",
      "\\toprule\n",
      "                               Seasonality &                                    Trend &                           Concept Drift &                                    Missing \\\\\n",
      "\\midrule\n",
      "                  Twitter\\_volume\\_FB\\_filled &                 Twitter\\_volume\\_FB\\_filled &       rds\\_cpu\\_utilization\\_cc0c53\\_filled &          ec2\\_cpu\\_utilization\\_ac20cd\\_nofill \\\\\n",
      "           elb\\_request\\_count\\_8c0756\\_filled &          elb\\_request\\_count\\_8c0756\\_filled &       ec2\\_cpu\\_utilization\\_ac20cd\\_filled &     ibm-common-stock-closing-prices\\_nofill \\\\\n",
      "                               FARM\\_filled &        ec2\\_cpu\\_utilization\\_ac20cd\\_filled &       rds\\_cpu\\_utilization\\_e47b3b\\_filled &              exchange-2\\_cpc\\_results\\_nofill \\\\\n",
      " ambient\\_temperature\\_system\\_failure\\_filled &  international-airline-passengers\\_filled &                  artificial\\_cd\\_3\\_filled &              exchange-2\\_cpm\\_results\\_nofill \\\\\n",
      "   international-airline-passengers\\_filled &              art\\_daily\\_flatmiddle\\_filled &                 grok\\_asg\\_anomaly\\_filled &              exchange-3\\_cpm\\_results\\_nofill \\\\\n",
      "         ec2\\_cpu\\_utilization\\_5f5533\\_filled &                  grok\\_asg\\_anomaly\\_filled &       ec2\\_cpu\\_utilization\\_5f5533\\_filled &              exchange-3\\_cpc\\_results\\_nofill \\\\\n",
      "                    artificial\\_cd\\_1\\_filled &               Twitter\\_volume\\_AMZN\\_filled &                  artificial\\_cd\\_1\\_filled &                     artificial\\_cd\\_3\\_nofill \\\\\n",
      "                    artificial\\_cd\\_2\\_filled &                  art\\_daily\\_nojump\\_filled &                  artificial\\_cd\\_2\\_filled &            elb\\_request\\_count\\_8c0756\\_nofill \\\\\n",
      "         all\\_data\\_gift\\_certificates\\_filled &   ibm-common-stock-closing-prices\\_filled &       all\\_data\\_gift\\_certificates\\_filled &                     artificial\\_cd\\_1\\_nofill \\\\\n",
      "                Twitter\\_volume\\_GOOG\\_filled &               Twitter\\_volume\\_GOOG\\_filled &  ibm-common-stock-closing-prices\\_filled &  ambient\\_temperature\\_system\\_failure\\_nofill \\\\\n",
      "\\bottomrule\n",
      "\\end{tabular}\n",
      "\n"
     ]
    }
   ],
   "source": [
    "print(ch_df.to_latex(index=False))  "
   ]
  },
  {
   "cell_type": "markdown",
   "metadata": {},
   "source": [
    "## What datasets are not used in the general dataset list?\n"
   ]
  },
  {
   "cell_type": "code",
   "execution_count": 9,
   "metadata": {},
   "outputs": [],
   "source": [
    "characteristic_dataset_list = list(set(seasonality_column + trend_column + conceptdrift_column + missing_column))"
   ]
  },
  {
   "cell_type": "code",
   "execution_count": 10,
   "metadata": {},
   "outputs": [
    {
     "data": {
      "text/plain": [
       "29"
      ]
     },
     "execution_count": 10,
     "metadata": {},
     "output_type": "execute_result"
    }
   ],
   "source": [
    "len(characteristic_dataset_list)"
   ]
  },
  {
   "cell_type": "code",
   "execution_count": 16,
   "metadata": {},
   "outputs": [
    {
     "data": {
      "text/plain": [
       "34"
      ]
     },
     "execution_count": 16,
     "metadata": {},
     "output_type": "execute_result"
    }
   ],
   "source": [
    "table_df = joblib.load(\"../jair_work_step_one_determine_characteristics/table_df\")\n",
    "dataset_list = []\n",
    "for item in table_df[\"Name\"].values:\n",
    "    dataset_list.append(item[:-4])\n",
    "len(dataset_list)"
   ]
  },
  {
   "cell_type": "code",
   "execution_count": 20,
   "metadata": {},
   "outputs": [
    {
     "data": {
      "text/plain": [
       "{'exchange-2_cpc_results_filled',\n",
       " 'exchange-2_cpm_results_filled',\n",
       " 'exchange-3_cpc_results_filled',\n",
       " 'exchange-3_cpm_results_filled',\n",
       " 'rds_cpu_utilization_cc0c53_nofill'}"
      ]
     },
     "execution_count": 20,
     "metadata": {},
     "output_type": "execute_result"
    }
   ],
   "source": [
    "set(dataset_list) - set(characteristic_dataset_list)"
   ]
  },
  {
   "cell_type": "code",
   "execution_count": null,
   "metadata": {},
   "outputs": [],
   "source": []
  }
 ],
 "metadata": {
  "kernelspec": {
   "display_name": "Python 3",
   "language": "python",
   "name": "python3"
  },
  "language_info": {
   "codemirror_mode": {
    "name": "ipython",
    "version": 3
   },
   "file_extension": ".py",
   "mimetype": "text/x-python",
   "name": "python",
   "nbconvert_exporter": "python",
   "pygments_lexer": "ipython3",
   "version": "3.6.9"
  }
 },
 "nbformat": 4,
 "nbformat_minor": 4
}
